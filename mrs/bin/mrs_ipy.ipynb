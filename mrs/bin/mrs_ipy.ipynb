{
 "cells": [
  {
   "cell_type": "markdown",
   "id": "c7d67261-5a5e-475e-85a4-e995a8abdb78",
   "metadata": {},
   "source": [
    "# Movie Review Sentiments by Matthew Inglis-Whalen [2023]\n",
    "\n",
    "A common use-case for Natural Language Processing is to determine the sentiment of a text submission. In this notebook we train a bag-of-words model to predict whether or not a given movie review is positive or negative. For example, words like \"bad\" and \"worst\" in a review are correlated with a low rating for the movie, while words like \"great\" and \"excellent\" are correlated with a good rating. The model uses 1- and 2-gram token sizes, but is still easily fooled. A short and simple review like \"Not great.\" will result in a positive sentiment prediction with a 99.2% prediction probability. Nevertheless, among the reviews in the withheld test set, this simple bag-of-words model achieves an accuracy of 91%."
   ]
  },
  {
   "cell_type": "code",
   "execution_count": 6,
   "id": "6cbc381f-1aeb-4a34-98e6-fa143fa6835e",
   "metadata": {},
   "outputs": [],
   "source": [
    "USE_PREMADE = False\n",
    "\n",
    "# standard imports\n",
    "import numpy as np\n",
    "import pandas as pd\n",
    "\n",
    "# utility\n",
    "from time import perf_counter\n",
    "\n",
    "#plotting\n",
    "import matplotlib.pyplot as plt\n",
    "import seaborn as sns\n",
    "\n",
    "# saving model\n",
    "import pickle as pkl\n",
    "\n",
    "from scipy.sparse._csr import csr_matrix\n",
    "\n",
    "from asizeof import asizeof as better_sizeof  # check vectorizer and model are small enough (<100MB) for AWS micro (500-700MB memory)\n"
   ]
  },
  {
   "cell_type": "markdown",
   "id": "a34792f8-0f78-4da9-8c24-5e378b1f6417",
   "metadata": {},
   "source": [
    "## Cleaning\n",
    "\n",
    "Let's import and examine the first few rows of data"
   ]
  },
  {
   "cell_type": "code",
   "execution_count": 2,
   "id": "7febc712-72f0-40c7-a38c-ca86a577003c",
   "metadata": {},
   "outputs": [
    {
     "data": {
      "text/html": [
       "<div>\n",
       "<style scoped>\n",
       "    .dataframe tbody tr th:only-of-type {\n",
       "        vertical-align: middle;\n",
       "    }\n",
       "\n",
       "    .dataframe tbody tr th {\n",
       "        vertical-align: top;\n",
       "    }\n",
       "\n",
       "    .dataframe thead th {\n",
       "        text-align: right;\n",
       "    }\n",
       "</style>\n",
       "<table border=\"1\" class=\"dataframe\">\n",
       "  <thead>\n",
       "    <tr style=\"text-align: right;\">\n",
       "      <th></th>\n",
       "      <th>review</th>\n",
       "      <th>sentiment</th>\n",
       "    </tr>\n",
       "  </thead>\n",
       "  <tbody>\n",
       "    <tr>\n",
       "      <th>0</th>\n",
       "      <td>One of the other reviewers has mentioned that ...</td>\n",
       "      <td>positive</td>\n",
       "    </tr>\n",
       "    <tr>\n",
       "      <th>1</th>\n",
       "      <td>A wonderful little production. &lt;br /&gt;&lt;br /&gt;The...</td>\n",
       "      <td>positive</td>\n",
       "    </tr>\n",
       "    <tr>\n",
       "      <th>2</th>\n",
       "      <td>I thought this was a wonderful way to spend ti...</td>\n",
       "      <td>positive</td>\n",
       "    </tr>\n",
       "    <tr>\n",
       "      <th>3</th>\n",
       "      <td>Basically there's a family where a little boy ...</td>\n",
       "      <td>negative</td>\n",
       "    </tr>\n",
       "    <tr>\n",
       "      <th>4</th>\n",
       "      <td>Petter Mattei's \"Love in the Time of Money\" is...</td>\n",
       "      <td>positive</td>\n",
       "    </tr>\n",
       "  </tbody>\n",
       "</table>\n",
       "</div>"
      ],
      "text/plain": [
       "                                              review sentiment\n",
       "0  One of the other reviewers has mentioned that ...  positive\n",
       "1  A wonderful little production. <br /><br />The...  positive\n",
       "2  I thought this was a wonderful way to spend ti...  positive\n",
       "3  Basically there's a family where a little boy ...  negative\n",
       "4  Petter Mattei's \"Love in the Time of Money\" is...  positive"
      ]
     },
     "execution_count": 2,
     "metadata": {},
     "output_type": "execute_result"
    }
   ],
   "source": [
    "data_path = \"../data/IMDB_Dataset.csv\"\n",
    "\n",
    "reviews_raw = pd.read_csv(data_path)\n",
    "reviews_raw.head()"
   ]
  },
  {
   "cell_type": "code",
   "execution_count": 3,
   "id": "a7edce8a-5744-4fa5-b348-3058577e4c4f",
   "metadata": {},
   "outputs": [
    {
     "name": "stdout",
     "output_type": "stream",
     "text": [
      "Basically there's a family where a little boy (Jake) thinks there's a zombie in his closet & his parents are fighting all the time.<br /><br />This movie is slower than a soap opera... and suddenly, Jake decides to become Rambo and kill the zombie.<br /><br />OK, first of all when you're going to make a film you must Decide if its a thriller or a drama! As a drama the movie is watchable. Parents are divorcing & arguing like in real life. And then we have Jake with his closet which totally ruins all the film! I expected to see a BOOGEYMAN similar movie, and instead i watched a drama with some meaningless thriller spots.<br /><br />3 out of 10 just for the well playing parents & descent dialogs. As for the shots with Jake: just ignore them.\n",
      "0\n"
     ]
    }
   ],
   "source": [
    "def sentiment_to_int(s : str) -> int:\n",
    "    if s == \"positive\" :\n",
    "        return 1\n",
    "    return 0\n",
    "\n",
    "reviews = reviews_raw['review']\n",
    "ratings = reviews_raw['sentiment'].map(sentiment_to_int)\n",
    "\n",
    "print(reviews[3])\n",
    "print(ratings[3])"
   ]
  },
  {
   "cell_type": "code",
   "execution_count": 4,
   "id": "f4c2d233-2ff4-476b-a2b4-bec1b7546c77",
   "metadata": {},
   "outputs": [],
   "source": [
    "def decode_document_bag(sp_arr : csr_matrix) -> (str, int) :\n",
    "    mylist = [(ordered_keys[j],sp_arr[i,j]) for i, j in zip(*sp_arr.nonzero())]\n",
    "    return mylist\n",
    "\n",
    "def sort_decoded(dec: (str,int)) -> (str, int) :\n",
    "    sorted_bag = sorted(dec, key = lambda x: x[1], reverse=True)\n",
    "    return sorted_bag\n",
    "\n",
    "def print_document_bag(sp_arr : csr_matrix) :\n",
    "    mylist = decode_document_bag(sp_arr)\n",
    "    print(mylist)\n",
    "\n",
    "def sorted_decoded_bag(sp_arr : csr_matrix) -> (str, int) :\n",
    "    decoded = decode_document_bag(sp_arr)\n",
    "    sorted_bag = sort_decoded(decoded)\n",
    "    return sorted_bag"
   ]
  },
  {
   "cell_type": "markdown",
   "id": "ae6d3a1e-c999-44a6-acc7-761bc89c6448",
   "metadata": {},
   "source": [
    "## Model genesis\n",
    "\n",
    "We use a TfidfVectorizer. This is a CountVectorizer (the bag-of-words) to condense a document down to a dictionary of word occurences, followed by a TfidfTransformer (Term Frequency * Inverse Document Frequency) to normalize the dictionary so that document length has no influence on predictions."
   ]
  },
  {
   "cell_type": "code",
   "execution_count": 7,
   "id": "3726d8f0-b4fd-429f-a941-45cd71233086",
   "metadata": {},
   "outputs": [
    {
     "name": "stdout",
     "output_type": "stream",
     "text": [
      "Created a vocabulary of length 11248\n",
      "509.4MB\n"
     ]
    },
    {
     "ename": "SystemExit",
     "evalue": "",
     "output_type": "error",
     "traceback": [
      "An exception has occurred, use %tb to see the full traceback.\n",
      "\u001b[1;31mSystemExit\u001b[0m\n"
     ]
    },
    {
     "name": "stderr",
     "output_type": "stream",
     "text": [
      "c:\\users\\matt\\documents\\github\\moviereviewsentiments\\venv\\lib\\site-packages\\IPython\\core\\interactiveshell.py:3534: UserWarning: To exit: use 'exit', 'quit', or Ctrl-D.\n",
      "  warn(\"To exit: use 'exit', 'quit', or Ctrl-D.\", stacklevel=1)\n"
     ]
    }
   ],
   "source": [
    "from sklearn.feature_extraction.text import TfidfVectorizer\n",
    "\n",
    "tokens_to_exclude = [\"br\",\"the\",\"a\",\"is\",\"of\",\"and\",\"it\",\"to\",\"would\",\"your\",\"which\",\"so\",\"this\",\n",
    "                     \"was\",\"ll\",\"on\",\"or\",\"for\",\"with\",\"as\",\"me\",\"that\",\"in\",\"be\",\"but\",\"could\",\n",
    "                     \"its\",\"em\",\"has\",\"then\",\"were\",\"where\",\"who\",\"thats\"]\n",
    "# tokens_to_exclude = [\"br\",\"the\",\"a\",\"and\"]\n",
    "# vectorizer =  CountVectorizer(ngram_range=(1,2), stop_words = tokens_to_exclude, min_df=10, strip_accents='ascii' ).fit(reviews)\n",
    "# for AWS micro the vocabulary needs to be small , so we choose a fairly large cutoff for the vectorizer\n",
    "vectorizer = TfidfVectorizer( ngram_range=(1,2), stop_words = tokens_to_exclude, min_df = 100, strip_accents='ascii', norm='l2' )\n",
    "vectorizer.fit(reviews)\n",
    "\n",
    "vocab = vectorizer.vocabulary_\n",
    "ordered_keys = vectorizer.get_feature_names_out()\n",
    "print(f\"Created a vocabulary of length {len(vocab)}\")\n",
    "\n",
    "first50 = []\n",
    "for idx, word in enumerate(ordered_keys) :\n",
    "    if idx == 50 :\n",
    "        break\n",
    "    first50.append(word)\n",
    "print(f\"{better_sizeof(vectorizer)/1e6:.1f}MB\")\n"
   ]
  },
  {
   "cell_type": "code",
   "execution_count": 6,
   "id": "5e497fe0-ab0e-4879-a036-c07eef657225",
   "metadata": {},
   "outputs": [],
   "source": [
    "from sklearn.model_selection import train_test_split, GridSearchCV\n",
    "\n",
    "transformed_X = vectorizer.transform(reviews)\n",
    "\n",
    "X_train, X_test, y_train, y_test = train_test_split(transformed_X, ratings, test_size=0.2, random_state=2023)"
   ]
  },
  {
   "cell_type": "code",
   "execution_count": 7,
   "id": "7524cc07-1c5c-45e6-9fba-ccd8089488d6",
   "metadata": {},
   "outputs": [],
   "source": [
    "from sklearn.linear_model import LogisticRegression\n",
    "\n",
    "logreg = LogisticRegression(max_iter=5000)\n",
    "\n",
    "logreg_grid = {\n",
    "    'penalty' : ['l2'],\n",
    "    'C' : [5, 10, 20]\n",
    "}\n",
    "logreg_grid_quick = {\n",
    "    'penalty': ['l2'],\n",
    "    'C': [10]\n",
    "}"
   ]
  },
  {
   "cell_type": "code",
   "execution_count": 8,
   "id": "ee488957-bd91-48fb-af35-c8ae072dc17e",
   "metadata": {},
   "outputs": [
    {
     "name": "stdout",
     "output_type": "stream",
     "text": [
      "Best logistic regression model achieves an average accuracy of 0.91 with args {'C': 10, 'penalty': 'l2'}\n",
      "Ran in 43.0 seconds\n"
     ]
    }
   ],
   "source": [
    "# runtime is 352 seconds on my machine\n",
    "t0 = perf_counter()\n",
    "\n",
    "if USE_PREMADE :\n",
    "    with open('sentiment_inference_model.pkl', 'rb') as f_m :\n",
    "        best_model = pkl.load(f_m)\n",
    "else :\n",
    "    search_cv = GridSearchCV(estimator=logreg, \n",
    "                             param_grid=logreg_grid_quick,\n",
    "                             scoring='accuracy',\n",
    "                             cv=5)\n",
    "    search_cv.fit(X_train,y_train)\n",
    "    \n",
    "    best_model = search_cv.best_estimator_\n",
    "    best_hypers = search_cv.best_params_\n",
    "    avg_score = search_cv.best_score_\n",
    "    \n",
    "    print(f\"Best logistic regression model achieves an average accuracy of {avg_score:.2F} with args {best_hypers}\")\n",
    "t1 = perf_counter()\n",
    "print(f\"Ran in {t1-t0:.1f} seconds\")"
   ]
  },
  {
   "cell_type": "code",
   "execution_count": 9,
   "id": "f2cc0e56-6369-49ee-8956-e4aa37aaf98b",
   "metadata": {},
   "outputs": [
    {
     "name": "stdout",
     "output_type": "stream",
     "text": [
      "[(-18.152190068742694, 'worst'), (-14.76937962813623, 'awful'), (13.164570675472067, 'great'), (-12.874830275326351, 'boring'), (-12.741039717491441, 'bad'), (-12.108568211353687, 'waste'), (12.104783089798051, 'excellent'), (-10.846406220773337, 'terrible'), (-10.668112374005508, 'poor'), (10.186481051414498, 'perfect'), (-9.915258998848827, 'horrible'), (9.630386209583548, 'wonderful'), (-9.345212812112873, 'disappointment'), (-9.27193489922384, 'dull'), (9.168466111047234, 'amazing'), (-9.102538248762711, 'worse'), (9.037543297685422, 'best'), (-8.986318591116115, 'disappointing'), (-8.83971718087003, 'nothing'), (-8.804334766436094, 'poorly')]\n"
     ]
    }
   ],
   "source": [
    "coef_label = [(best_model.coef_[0,i], ordered_keys[i]) for i in range(len(ordered_keys))]\n",
    "biggest_influences = sorted(coef_label, key = lambda x: abs(x[0]), reverse=True)\n",
    "print(biggest_influences[:20])\n",
    "sorted_biggest = sorted(biggest_influences[:40], key = lambda x: x[0], reverse=True)"
   ]
  },
  {
   "cell_type": "code",
   "execution_count": 10,
   "id": "8824077e-c1d6-4f23-8194-62837d914a4c",
   "metadata": {},
   "outputs": [
    {
     "name": "stdout",
     "output_type": "stream",
     "text": [
      "[(0.00024027248910408065, 'rad'), (0.00023343709152692782, 'alarmed'), (0.00021088790135848846, 'relationship his'), (0.00020064484072309586, 'do they'), (0.00019332029548360002, 'least at'), (0.00019209683963784466, 'naturalism'), (0.0001574832716886796, 'motion animation'), (0.00015134315291981919, 'moved away'), (0.00014877487243349148, 'career not'), (0.00014614033184114666, 'seen recent'), (0.0001382048260411481, 'night club'), (0.0001200170613607252, 'animation film'), (0.00011899847864618398, 'just play'), (0.00011711889839674628, 'made characters'), (0.00011060813612226046, 'minutes seems'), (0.00011038411152067493, 'governmental'), (0.00010737582332852636, 'camera her'), (9.765413796366162e-05, 'from character'), (6.769826461127311e-05, 'even giving'), (6.761588581410326e-05, 'are decent'), (5.022541588735875e-05, 'exiting'), (4.2271062144088583e-05, 'two bad'), (2.0471983762963223e-05, 'up during'), (1.4898082779556032e-05, 'thatcher'), (5.5224342559361655e-06, 'root him'), (5.020940910409311e-06, 'samuel jackson'), (-5.963746539442298e-06, 'are offered'), (-1.0415256003705721e-05, 'long series'), (-1.2931874956647433e-05, 'world think'), (-1.5549982223353277e-05, 'dialogue from'), (-1.6173239451226787e-05, 'blood just'), (-1.9342585135519687e-05, 'got only'), (-2.5813394511364666e-05, 'about acting'), (-4.362121828241946e-05, 'turn not'), (-5.1804466394541186e-05, 'kiki'), (-5.28818206878359e-05, 'although love'), (-6.7186161113029e-05, 'nearly 20'), (-7.437386292273853e-05, 'ya know'), (-7.914308223600788e-05, 'always did'), (-9.614461766153012e-05, 'also isn'), (-0.00010796894660430081, 'here also'), (-0.00012772680157217508, 'career her'), (-0.00013205426045358618, 'tails'), (-0.0001487163321076365, 'sequel doesn'), (-0.0001505732756925798, 'years come'), (-0.00017537643342435707, 'austen novel'), (-0.0001775577424271085, 'chief villain'), (-0.00021061414092710655, 'really stuck'), (-0.00021096735675030028, 'totally unsympathetic'), (-0.00021378410952204254, 'thus far')]\n"
     ]
    }
   ],
   "source": [
    "sorted_smallest = sorted(biggest_influences[-50:], key = lambda x: x[0], reverse=True)\n",
    "print(sorted_smallest)"
   ]
  },
  {
   "cell_type": "markdown",
   "id": "6099e2bc-e88d-456f-b637-83d73d8e947d",
   "metadata": {},
   "source": [
    "## Model interpretation"
   ]
  },
  {
   "cell_type": "code",
   "execution_count": 11,
   "id": "80c493ec-278f-496c-9a9d-eb0e535dd9fd",
   "metadata": {},
   "outputs": [
    {
     "data": {
      "image/png": "[encoded data removed]",
      "text/plain": [
       "<Figure size 800x600 with 1 Axes>"
      ]
     },
     "metadata": {},
     "output_type": "display_data"
    }
   ],
   "source": [
    "# Interpret the model's fit\n",
    "fig, ax = plt.subplots(figsize=(8,6))\n",
    "sns.barplot(x=[x[0] for x in sorted_biggest], y=[x[1] for x in sorted_biggest], ax=ax)\n",
    "ax.set_title('Feature Importances')\n",
    "ax.set_xlabel('Signed Importance')\n",
    "ax.set_ylabel('Feature')\n",
    "plt.tight_layout()\n",
    "plt.savefig('logistic_importance.png')\n",
    "\n",
    "plt.show()"
   ]
  },
  {
   "cell_type": "code",
   "execution_count": 12,
   "id": "912b47f6-2bb8-4faa-b495-da0edc8015d0",
   "metadata": {},
   "outputs": [
    {
     "name": "stdout",
     "output_type": "stream",
     "text": [
      "Test set accuracy: 0.9157\n"
     ]
    }
   ],
   "source": [
    "from sklearn.metrics import accuracy_score\n",
    "\n",
    "y_pred = best_model.predict(X_test)\n",
    "test_acc = accuracy_score(y_test,y_pred)\n",
    "print(f\"Test set accuracy: {test_acc}\")"
   ]
  },
  {
   "cell_type": "markdown",
   "id": "a4e5c1c4-970a-48f2-8f5d-eca7ffa2b55e",
   "metadata": {},
   "source": [
    "## Export model and vocabulary\n",
    "\n",
    "We need to pickle the model and vocabulary in order to deploy the model"
   ]
  },
  {
   "cell_type": "code",
   "execution_count": 13,
   "id": "7e54243e-6ce4-41b8-9509-69557583cd87",
   "metadata": {},
   "outputs": [],
   "source": [
    "# pickle the vectorizer and inference model\n",
    "\n",
    "\n",
    "with open('vocabulary.pkl', 'wb') as f_v :\n",
    "    pkl.dump(vectorizer, f_v)\n",
    "with open('sentiment_inference_model.pkl', 'wb') as f_m :\n",
    "    pkl.dump(best_model, f_m)\n"
   ]
  },
  {
   "cell_type": "code",
   "execution_count": 14,
   "id": "415d761c-8666-4f79-917b-d354486a5ef7",
   "metadata": {},
   "outputs": [],
   "source": [
    "# check that the vocabulary and inference model work when de-pickled\n",
    "\n",
    "with open('vocabulary.pkl', 'rb') as f_v :\n",
    "    loaded_vocab = pkl.load(f_v)\n",
    "with open('sentiment_inference_model.pkl', 'rb') as f_m :\n",
    "    loaded_model = pkl.load(f_m)"
   ]
  },
  {
   "cell_type": "code",
   "execution_count": 15,
   "id": "b2bd8573-5828-4d65-b92c-5d9e7d2f72e2",
   "metadata": {},
   "outputs": [
    {
     "name": "stdout",
     "output_type": "stream",
     "text": [
      "0.31964655664604746\n"
     ]
    }
   ],
   "source": [
    "input_str = \"\"\"\n",
    "This was clearly no Tarantino film, but it had a lot of good things going for it. \n",
    "I liked the plot, and the visuals were above par. Not bad! Looking forward to more from this director! Not great.\n",
    "\"\"\"\n",
    "\n",
    "# input_str = \"\"\"\n",
    "# Not great. Not terrible\n",
    "# \"\"\"\n",
    "\n",
    "transformed_input = loaded_vocab.transform([input_str])\n",
    "input_sentiment = loaded_model.predict_proba(transformed_input)[0,1]\n",
    "print(input_sentiment)"
   ]
  },
  {
   "cell_type": "code",
   "execution_count": 16,
   "id": "c54d5d1f-1c8f-4770-9d40-78879f11d053",
   "metadata": {},
   "outputs": [
    {
     "name": "stdout",
     "output_type": "stream",
     "text": [
      "clearly -- -0.68\n",
      "no -- -5.92\n",
      "Tarantino -- -0.93\n",
      "film, -- 1.45\n",
      "had -- -1.49\n",
      "lot -- 3.01\n",
      "good -- 4.47\n",
      "things -- 1.56\n",
      "going -- 0.15\n",
      "liked -- 5.42\n",
      "plot, -- -3.23\n",
      "visuals -- 0.99\n",
      "above -- 1.68\n",
      "par. -- -2.36\n",
      "Not -- -3.33\n",
      "bad! -- -12.74\n",
      "Looking -- -2.11\n",
      "forward -- -2.87\n",
      "more -- 2.24\n",
      "from -- -0.16\n",
      "director! -- -4.32\n",
      "Not -- -3.33\n",
      "great. -- 13.16\n",
      "was clearly -- -0.68\n",
      "clearly no -- -5.92\n",
      "no Tarantino -- -0.93\n",
      "Tarantino film, -- -0.93\n",
      "film, but -- 1.45\n",
      "it had -- -1.49\n",
      "had a -- -1.49\n",
      "a lot -- 3.01\n",
      "lot of -- 3.01\n",
      "of good -- 4.47\n",
      "good things -- 1.56\n",
      "things going -- 0.29\n",
      "going for -- 0.15\n",
      "I liked -- 5.42\n",
      "liked the -- 5.42\n",
      "the plot, -- -3.23\n",
      "plot, and -- -3.23\n",
      "the visuals -- 0.99\n",
      "visuals were -- 0.99\n",
      "were above -- 1.68\n",
      "above par. -- -2.36\n",
      "par. Not -- -2.36\n",
      "Not bad! -- 3.96\n",
      "bad! Looking -- -2.11\n",
      "Looking forward -- -3.04\n",
      "forward to -- -2.87\n",
      "to more -- 2.24\n",
      "more from -- -1.45\n",
      "from this -- -0.16\n",
      "this director! -- -4.32\n",
      "director! Not -- -3.33\n",
      "Not great. -- -1.36\n"
     ]
    }
   ],
   "source": [
    "for n, word in enumerate(input_str.split()):\n",
    "    word_as_sparse_arr = vectorizer.transform([word])\n",
    "    _, word_index_as_list = word_as_sparse_arr.nonzero()\n",
    "    if word_index_as_list.size > 0 :\n",
    "        strength = best_model.coef_[0, word_index_as_list[0]]\n",
    "        print(f\"{word} -- {strength:.2f}\")\n",
    "\n",
    "for n, (word1, word2) in enumerate(zip(input_str.split()[:-1],input_str.split()[1:])):\n",
    "    bigram_as_sparse_arr = vectorizer.transform([f\"{word1} {word2}\"])\n",
    "    _, bigram_index_as_list = bigram_as_sparse_arr.nonzero()\n",
    "\n",
    "    if bigram_index_as_list.size > 0 :\n",
    "        idx = bigram_index_as_list[0]\n",
    "        bigram_string = ordered_keys[idx]\n",
    "        if len(bigram_string.split()) > 0 :\n",
    "            strength = best_model.coef_[0, bigram_index_as_list[0]]\n",
    "            print(f\"{word1} {word2} -- {strength:.2f}\")\n"
   ]
  },
  {
   "cell_type": "code",
   "execution_count": 61,
   "id": "90941a2d-adad-4338-9ef1-da9edfd23359",
   "metadata": {},
   "outputs": [
    {
     "name": "stdout",
     "output_type": "stream",
     "text": [
      "509.055496\n"
     ]
    }
   ],
   "source": [
    "from asizeof import asizeof as better_sizeof\n",
    "from sklearn.feature_extraction.text import CountVectorizer\n",
    "\n",
    "# print(better_sizeof(vectorizer)/1e6)\n",
    "\n",
    "small_vectorizer =  CountVectorizer(ngram_range=(1,2), stop_words = tokens_to_exclude, max_features=500, strip_accents='ascii' ).fit(reviews)\n",
    "\n",
    "print(better_sizeof(small_vectorizer)/1e6)\n"
   ]
  },
  {
   "cell_type": "code",
   "execution_count": 26,
   "id": "828663bc-ae63-4006-b1fd-a55d66396b85",
   "metadata": {},
   "outputs": [
    {
     "name": "stdout",
     "output_type": "stream",
     "text": [
      "0.090096\n"
     ]
    }
   ],
   "source": [
    "print(better_sizeof(ordered_keys)/1e6)\n"
   ]
  },
  {
   "cell_type": "markdown",
   "id": "2aba1d3c-28c4-4161-92b0-1019503fa0f6",
   "metadata": {},
   "source": [
    "## Conclusion\n",
    "\n",
    "I've built a bag-of-words model with 1- and 2-grams, which achieves a 91% accuracy on the test set. The model is ready to deploy to production."
   ]
  }
 ],
 "metadata": {
  "kernelspec": {
   "display_name": "Python 3 (ipykernel)",
   "language": "python",
   "name": "python3"
  },
  "language_info": {
   "codemirror_mode": {
    "name": "ipython",
    "version": 3
   },
   "file_extension": ".py",
   "mimetype": "text/x-python",
   "name": "python",
   "nbconvert_exporter": "python",
   "pygments_lexer": "ipython3",
   "version": "3.9.7"
  }
 },
 "nbformat": 4,
 "nbformat_minor": 5
}
